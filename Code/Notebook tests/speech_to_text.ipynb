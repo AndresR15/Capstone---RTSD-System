{
 "cells": [
  {
   "cell_type": "code",
   "execution_count": 1,
   "outputs": [
    {
     "name": "stderr",
     "output_type": "stream",
     "text": [
      "Using TensorFlow backend.\n"
     ]
    }
   ],
   "source": [
    "import numpy as np\n",
    "import pandas as pd\n",
    "import matplotlib.pyplot as plt\n",
    "\n",
    "import librosa.display\n",
    "import matplotlib.pyplot as plt\n",
    "from keras.models import Sequential, Model, load_model\n",
    "\n",
    "\n",
    "from Code.Misc.helper import *\n",
    "from Code.Misc.features import *\n",
    "%matplotlib inline\n"
   ],
   "metadata": {
    "collapsed": false,
    "pycharm": {
     "name": "#%%\n"
    }
   }
  },
  {
   "cell_type": "code",
   "execution_count": 2,
   "outputs": [],
   "source": [
    "# load in model\n",
    "\n",
    "PATH_TO_MODEL = \"../Misc/Saved_data/Trained_models/2_layer_LSTM.pickle\"\n",
    "model = load_model(PATH_TO_MODEL)"
   ],
   "metadata": {
    "collapsed": false,
    "pycharm": {
     "name": "#%%\n"
    }
   }
  },
  {
   "cell_type": "code",
   "execution_count": 3,
   "outputs": [],
   "source": [
    "# read in wav file"
   ],
   "metadata": {
    "collapsed": false,
    "pycharm": {
     "name": "#%%\n"
    }
   }
  },
  {
   "cell_type": "code",
   "execution_count": 4,
   "outputs": [],
   "source": [
    "import IPython.display as ipd\n",
    "audio_path = \"F:\\Capstone Project\\Capstone---RTSD-System\\Data\\CMU_MOSI\\Raw\\Audio\\WAV_16000/Full/\"\n",
    "file_name = \"d6hH302o4v8.wav\"\n",
    "\n",
    "#ipd.Audio(audio_path + file_name) # load a local WAV file"
   ],
   "metadata": {
    "collapsed": false,
    "pycharm": {
     "name": "#%%\n"
    }
   }
  },
  {
   "cell_type": "code",
   "execution_count": 5,
   "outputs": [
    {
     "data": {
      "text/plain": "<Figure size 432x288 with 1 Axes>",
      "image/png": "[encoded data removed]"
     },
     "metadata": {
      "needs_background": "light"
     },
     "output_type": "display_data"
    }
   ],
   "source": [
    "import librosa\n",
    "\n",
    "y, sr = librosa.load(audio_path + file_name) #, duration=10)\n",
    "fig, ax = plt.subplots()\n",
    "librosa.display.waveplot(y, sr=sr)\n",
    "ax.label_outer()"
   ],
   "metadata": {
    "collapsed": false,
    "pycharm": {
     "name": "#%%\n"
    }
   }
  },
  {
   "cell_type": "code",
   "execution_count": 6,
   "outputs": [],
   "source": [
    "wav = get_audio(audio_path, file_name)\n",
    "(nchannels, sampwidth, framerate, nframes, comptype, compname), samples_wav = wav"
   ],
   "metadata": {
    "collapsed": false,
    "pycharm": {
     "name": "#%%\n"
    }
   }
  },
  {
   "cell_type": "code",
   "execution_count": 7,
   "outputs": [],
   "source": [
    "import speech_recognition as sr\n",
    "r = sr.Recognizer()\n",
    "r.energy_threshold = 0\n",
    "\n",
    "a_file = sr.AudioFile(audio_path + file_name)"
   ],
   "metadata": {
    "collapsed": false,
    "pycharm": {
     "name": "#%%\n"
    }
   }
  },
  {
   "cell_type": "code",
   "execution_count": 32,
   "outputs": [
    {
     "name": "stdout",
     "output_type": "stream",
     "text": [
      "frame: 0\n",
      "GOOGLE:\n",
      "\treview of the movie was horrible\n",
      "\t4.19 seconds\n",
      "SPHiNX\n",
      "\t--- Skip ---\n",
      "frame: 1\n",
      "GOOGLE:\n",
      "\tnicholls-king should not sneak on movie he's always through which\n",
      "\t6.07 seconds\n",
      "SPHiNX\n",
      "\t--- Skip ---\n",
      "frame: 2\n",
      "GOOGLE:\n",
      "\t--- Skip ---\n",
      "SPHiNX\n",
      "\t--- Skip ---\n",
      "frame: 3\n",
      "GOOGLE:\n",
      "\ttalking about and I was being robbed\n",
      "\t6.91 seconds\n",
      "SPHiNX\n",
      "\t--- Skip ---\n",
      "frame: 4\n",
      "GOOGLE:\n",
      "\t--- Skip ---\n",
      "SPHiNX\n",
      "\t--- Skip ---\n",
      "frame: 5\n",
      "GOOGLE:\n",
      "\t14th century\n",
      "\t4.38 seconds\n",
      "SPHiNX\n",
      "\t--- Skip ---\n",
      "frame: 6\n",
      "GOOGLE:\n",
      "\t--- Skip ---\n",
      "SPHiNX\n",
      "\t--- Skip ---\n",
      "frame: 7\n",
      "GOOGLE:\n",
      "\tUber come out\n",
      "\t1.89 seconds\n",
      "SPHiNX\n",
      "\t--- Skip ---\n",
      "frame: 8\n",
      "GOOGLE:\n",
      "\tin January I seen three movies has been so far and this is the worst\n",
      "\t5.31 seconds\n",
      "SPHiNX\n",
      "\t--- Skip ---\n",
      "frame: 9\n",
      "GOOGLE:\n",
      "\tvery very very boring\n",
      "\t2.14 seconds\n",
      "SPHiNX\n",
      "\t--- Skip ---\n"
     ]
    }
   ],
   "source": [
    "input_audio_file = sr.AudioFile(audio_path + file_name)\n",
    "\n",
    "audio_list = []\n",
    "length = 10\n",
    "for sample in range(0, 10):\n",
    "    with input_audio_file as source:\n",
    "        #r.adjust_for_ambient_noise(source, duration=0.5)\n",
    "        audio_list.append(r.record(source, duration=length, offset = (sample * length - 0.5)))\n",
    "\n",
    "i = 0\n",
    "for sample in audio_list:\n",
    "    print(\"frame: \" + str(i))\n",
    "    i += 1\n",
    "    print(\"GOOGLE:\")\n",
    "    try:\n",
    "        time_start = time.time()\n",
    "        print(\"\\t\" + r.recognize_google(sample))\n",
    "        print(\"\\t\" + str(round(time.time() - time_start, 2)) + \" seconds\")\n",
    "    except:\n",
    "        print(\"\\t--- Skip ---\")\n",
    "\n",
    "    print(\"SPHINX\")\n",
    "    try:\n",
    "        time_start = time.time()\n",
    "        print(\"\\t\" + r.recognize_sphinx(sample))\n",
    "        print(\"\\t\" + str(round(time.time() - time_start, 2)) + \" seconds\")\n",
    "    except:\n",
    "            print(\"\\t--- Skip ---\")\n",
    "\n",
    "    # try:\n",
    "    #     time_start = time.time()\n",
    "    #     print(\"SPHiNX \\n\\t\" + r.recognize_sphinx(sample))\n",
    "    #     print(\"\\t\" + str(round(time.time() - time_start, 2)) + \" seconds\")\n",
    "    # except:\n",
    "    #         print(\"\\t--- Skip ---\")\n",
    "\n",
    "\n"
   ],
   "metadata": {
    "collapsed": false,
    "pycharm": {
     "name": "#%%\n"
    }
   }
  },
  {
   "cell_type": "code",
   "execution_count": 9,
   "outputs": [],
   "source": [
    "with input_audio_file as source:\n",
    "        audio = r.record(source, offset=30)#, duration=60)\n",
    "        #audio = r.record(source, duration=60)\n",
    "        #audio = r.record(source, duration=60)\n",
    "       # audio = r.record(source, duration=60)\n",
    "        #audio2 = r.record(source, duration=60)\n",
    "\n",
    "result = r.recognize_google(audio)"
   ],
   "metadata": {
    "collapsed": false,
    "pycharm": {
     "name": "#%%\n"
    }
   }
  },
  {
   "cell_type": "code",
   "execution_count": 33,
   "outputs": [
    {
     "ename": "RequestError",
     "evalue": "missing PocketSphinx module: ensure that PocketSphinx is set up correctly.",
     "output_type": "error",
     "traceback": [
      "\u001B[1;31m---------------------------------------------------------------------------\u001B[0m",
      "\u001B[1;31mModuleNotFoundError\u001B[0m                       Traceback (most recent call last)",
      "\u001B[1;32mF:\\Program Files\\Ananconda\\envs\\CAP\\lib\\site-packages\\speech_recognition\\__init__.py\u001B[0m in \u001B[0;36mrecognize_sphinx\u001B[1;34m(self, audio_data, language, keyword_entries, grammar, show_all)\u001B[0m\n\u001B[0;32m    728\u001B[0m         \u001B[1;32mtry\u001B[0m\u001B[1;33m:\u001B[0m\u001B[1;33m\u001B[0m\u001B[1;33m\u001B[0m\u001B[0m\n\u001B[1;32m--> 729\u001B[1;33m             \u001B[1;32mfrom\u001B[0m \u001B[0mpocketsphinx\u001B[0m \u001B[1;32mimport\u001B[0m \u001B[0mpocketsphinx\u001B[0m\u001B[1;33m,\u001B[0m \u001B[0mJsgf\u001B[0m\u001B[1;33m,\u001B[0m \u001B[0mFsgModel\u001B[0m\u001B[1;33m\u001B[0m\u001B[1;33m\u001B[0m\u001B[0m\n\u001B[0m\u001B[0;32m    730\u001B[0m \u001B[1;33m\u001B[0m\u001B[0m\n",
      "\u001B[1;31mModuleNotFoundError\u001B[0m: No module named 'pocketsphinx'",
      "\nDuring handling of the above exception, another exception occurred:\n",
      "\u001B[1;31mRequestError\u001B[0m                              Traceback (most recent call last)",
      "\u001B[1;32m<ipython-input-33-1e2fe3e85f92>\u001B[0m in \u001B[0;36m<module>\u001B[1;34m\u001B[0m\n\u001B[1;32m----> 1\u001B[1;33m \u001B[0mprint\u001B[0m\u001B[1;33m(\u001B[0m\u001B[1;34m\"\\t\"\u001B[0m \u001B[1;33m+\u001B[0m \u001B[0mr\u001B[0m\u001B[1;33m.\u001B[0m\u001B[0mrecognize_sphinx\u001B[0m\u001B[1;33m(\u001B[0m\u001B[0msample\u001B[0m\u001B[1;33m)\u001B[0m\u001B[1;33m)\u001B[0m\u001B[1;33m\u001B[0m\u001B[1;33m\u001B[0m\u001B[0m\n\u001B[0m",
      "\u001B[1;32mF:\\Program Files\\Ananconda\\envs\\CAP\\lib\\site-packages\\speech_recognition\\__init__.py\u001B[0m in \u001B[0;36mrecognize_sphinx\u001B[1;34m(self, audio_data, language, keyword_entries, grammar, show_all)\u001B[0m\n\u001B[0;32m    730\u001B[0m \u001B[1;33m\u001B[0m\u001B[0m\n\u001B[0;32m    731\u001B[0m         \u001B[1;32mexcept\u001B[0m \u001B[0mImportError\u001B[0m\u001B[1;33m:\u001B[0m\u001B[1;33m\u001B[0m\u001B[1;33m\u001B[0m\u001B[0m\n\u001B[1;32m--> 732\u001B[1;33m             \u001B[1;32mraise\u001B[0m \u001B[0mRequestError\u001B[0m\u001B[1;33m(\u001B[0m\u001B[1;34m\"missing PocketSphinx module: ensure that PocketSphinx is set up correctly.\"\u001B[0m\u001B[1;33m)\u001B[0m\u001B[1;33m\u001B[0m\u001B[1;33m\u001B[0m\u001B[0m\n\u001B[0m\u001B[0;32m    733\u001B[0m         \u001B[1;32mexcept\u001B[0m \u001B[0mValueError\u001B[0m\u001B[1;33m:\u001B[0m\u001B[1;33m\u001B[0m\u001B[1;33m\u001B[0m\u001B[0m\n\u001B[0;32m    734\u001B[0m             \u001B[1;32mraise\u001B[0m \u001B[0mRequestError\u001B[0m\u001B[1;33m(\u001B[0m\u001B[1;34m\"bad PocketSphinx installation; try reinstalling PocketSphinx version 0.0.9 or better.\"\u001B[0m\u001B[1;33m)\u001B[0m\u001B[1;33m\u001B[0m\u001B[1;33m\u001B[0m\u001B[0m\n",
      "\u001B[1;31mRequestError\u001B[0m: missing PocketSphinx module: ensure that PocketSphinx is set up correctly."
     ]
    }
   ],
   "source": [
    "print(\"\\t\" + r.recognize_sphinx(sample))"
   ],
   "metadata": {
    "collapsed": false,
    "pycharm": {
     "name": "#%%\n"
    }
   }
  },
  {
   "cell_type": "code",
   "execution_count": 34,
   "outputs": [
    {
     "name": "stderr",
     "output_type": "stream",
     "text": [
      "'apt-get' is not recognized as an internal or external command,\n",
      "operable program or batch file.\n",
      "  ERROR: Command errored out with exit status 1:\n",
      "   command: 'F:\\Program Files\\Ananconda\\envs\\CAP\\python.exe' -u -c 'import sys, setuptools, tokenize; sys.argv[0] = '\"'\"'C:\\\\Users\\\\andre\\\\AppData\\\\Local\\\\Temp\\\\pip-install-xu24p_sx\\\\pocketsphinx\\\\setup.py'\"'\"'; __file__='\"'\"'C:\\\\Users\\\\andre\\\\AppData\\\\Local\\\\Temp\\\\pip-install-xu24p_sx\\\\pocketsphinx\\\\setup.py'\"'\"';f=getattr(tokenize, '\"'\"'open'\"'\"', open)(__file__);code=f.read().replace('\"'\"'\\r\\n'\"'\"', '\"'\"'\\n'\"'\"');f.close();exec(compile(code, __file__, '\"'\"'exec'\"'\"'))' bdist_wheel -d 'C:\\Users\\andre\\AppData\\Local\\Temp\\pip-wheel-zi5jtove'\n",
      "       cwd: C:\\Users\\andre\\AppData\\Local\\Temp\\pip-install-xu24p_sx\\pocketsphinx\\\n",
      "  Complete output (6 lines):\n",
      "  running bdist_wheel\n",
      "  running build_ext\n",
      "  building 'sphinxbase._sphinxbase' extension\n",
      "  swigging deps/sphinxbase/swig/sphinxbase.i to deps/sphinxbase/swig/sphinxbase_wrap.c\n",
      "  swig.exe -python -modern -threads -Ideps/sphinxbase/include -Ideps/sphinxbase/include/sphinxbase -Ideps/sphinxbase/include/win32 -Ideps/sphinxbase/swig -outdir sphinxbase -o deps/sphinxbase/swig/sphinxbase_wrap.c deps/sphinxbase/swig/sphinxbase.i\n",
      "  error: command 'swig.exe' failed: No such file or directory\n",
      "  ----------------------------------------\n",
      "  ERROR: Failed building wheel for pocketsphinx\n",
      "    ERROR: Command errored out with exit status 1:\n",
      "     command: 'F:\\Program Files\\Ananconda\\envs\\CAP\\python.exe' -u -c 'import sys, setuptools, tokenize; sys.argv[0] = '\"'\"'C:\\\\Users\\\\andre\\\\AppData\\\\Local\\\\Temp\\\\pip-install-xu24p_sx\\\\pocketsphinx\\\\setup.py'\"'\"'; __file__='\"'\"'C:\\\\Users\\\\andre\\\\AppData\\\\Local\\\\Temp\\\\pip-install-xu24p_sx\\\\pocketsphinx\\\\setup.py'\"'\"';f=getattr(tokenize, '\"'\"'open'\"'\"', open)(__file__);code=f.read().replace('\"'\"'\\r\\n'\"'\"', '\"'\"'\\n'\"'\"');f.close();exec(compile(code, __file__, '\"'\"'exec'\"'\"'))' install --record 'C:\\Users\\andre\\AppData\\Local\\Temp\\pip-record-svod2ctz\\install-record.txt' --single-version-externally-managed --compile --install-headers 'F:\\Program Files\\Ananconda\\envs\\CAP\\Include\\pocketsphinx'\n",
      "         cwd: C:\\Users\\andre\\AppData\\Local\\Temp\\pip-install-xu24p_sx\\pocketsphinx\\\n",
      "    Complete output (6 lines):\n",
      "    running install\n",
      "    running build_ext\n",
      "    building 'sphinxbase._sphinxbase' extension\n",
      "    swigging deps/sphinxbase/swig/sphinxbase.i to deps/sphinxbase/swig/sphinxbase_wrap.c\n",
      "    swig.exe -python -modern -threads -Ideps/sphinxbase/include -Ideps/sphinxbase/include/sphinxbase -Ideps/sphinxbase/include/win32 -Ideps/sphinxbase/swig -outdir sphinxbase -o deps/sphinxbase/swig/sphinxbase_wrap.c deps/sphinxbase/swig/sphinxbase.i\n",
      "    error: command 'swig.exe' failed: No such file or directory\n",
      "    ----------------------------------------\n",
      "ERROR: Command errored out with exit status 1: 'F:\\Program Files\\Ananconda\\envs\\CAP\\python.exe' -u -c 'import sys, setuptools, tokenize; sys.argv[0] = '\"'\"'C:\\\\Users\\\\andre\\\\AppData\\\\Local\\\\Temp\\\\pip-install-xu24p_sx\\\\pocketsphinx\\\\setup.py'\"'\"'; __file__='\"'\"'C:\\\\Users\\\\andre\\\\AppData\\\\Local\\\\Temp\\\\pip-install-xu24p_sx\\\\pocketsphinx\\\\setup.py'\"'\"';f=getattr(tokenize, '\"'\"'open'\"'\"', open)(__file__);code=f.read().replace('\"'\"'\\r\\n'\"'\"', '\"'\"'\\n'\"'\"');f.close();exec(compile(code, __file__, '\"'\"'exec'\"'\"'))' install --record 'C:\\Users\\andre\\AppData\\Local\\Temp\\pip-record-svod2ctz\\install-record.txt' --single-version-externally-managed --compile --install-headers 'F:\\Program Files\\Ananconda\\envs\\CAP\\Include\\pocketsphinx' Check the logs for full command output.\n"
     ]
    },
    {
     "name": "stdout",
     "output_type": "stream",
     "text": [
      "Collecting pocketsphinx\n",
      "  Using cached pocketsphinx-0.1.15.tar.gz (29.1 MB)\n",
      "Building wheels for collected packages: pocketsphinx\n",
      "  Building wheel for pocketsphinx (setup.py): started\n",
      "  Building wheel for pocketsphinx (setup.py): finished with status 'error'\n",
      "  Running setup.py clean for pocketsphinx\n",
      "Failed to build pocketsphinx\n",
      "Installing collected packages: pocketsphinx\n",
      "    Running setup.py install for pocketsphinx: started\n",
      "    Running setup.py install for pocketsphinx: finished with status 'error'\n"
     ]
    }
   ],
   "source": [
    "!apt-get install -y swig libpulse-dev\n",
    "!pip install pocketsphinx"
   ],
   "metadata": {
    "collapsed": false,
    "pycharm": {
     "name": "#%%\n"
    }
   }
  }
 ],
 "metadata": {
  "kernelspec": {
   "display_name": "Python 3",
   "language": "python",
   "name": "python3"
  },
  "language_info": {
   "codemirror_mode": {
    "name": "ipython",
    "version": 2
   },
   "file_extension": ".py",
   "mimetype": "text/x-python",
   "name": "python",
   "nbconvert_exporter": "python",
   "pygments_lexer": "ipython2",
   "version": "2.7.6"
  }
 },
 "nbformat": 4,
 "nbformat_minor": 0
}