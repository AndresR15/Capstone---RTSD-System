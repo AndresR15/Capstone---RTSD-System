{
 "cells": [
  {
   "cell_type": "code",
   "execution_count": 1,
   "outputs": [
    {
     "name": "stderr",
     "output_type": "stream",
     "text": [
      "Using TensorFlow backend.\n"
     ]
    }
   ],
   "source": [
    "import numpy as np\n",
    "import pandas as pd\n",
    "import matplotlib.pyplot as plt\n",
    "\n",
    "import librosa.display\n",
    "import matplotlib.pyplot as plt\n",
    "from keras.models import Sequential, Model, load_model\n",
    "\n",
    "\n",
    "from Code.Misc.helper import *\n",
    "from Code.Misc.features import *\n",
    "%matplotlib inline\n"
   ],
   "metadata": {
    "collapsed": false,
    "pycharm": {
     "name": "#%%\n"
    }
   }
  },
  {
   "cell_type": "code",
   "execution_count": 2,
   "outputs": [],
   "source": [
    "# load in model\n",
    "\n",
    "PATH_TO_MODEL = \"../Misc/Saved_data/Trained_models/2_layer_LSTM.pickle\"\n",
    "model = load_model(PATH_TO_MODEL)"
   ],
   "metadata": {
    "collapsed": false,
    "pycharm": {
     "name": "#%%\n"
    }
   }
  },
  {
   "cell_type": "code",
   "execution_count": 3,
   "outputs": [],
   "source": [
    "# read in wav file"
   ],
   "metadata": {
    "collapsed": false,
    "pycharm": {
     "name": "#%%\n"
    }
   }
  },
  {
   "cell_type": "code",
   "execution_count": 4,
   "outputs": [],
   "source": [
    "import IPython.display as ipd\n",
    "audio_path = \"F:\\Capstone Project\\Capstone---RTSD-System\\Data\\CMU_MOSI\\Raw\\Audio\\WAV_16000/Full/\"\n",
    "file_name = \"0h-zjBukYpk.wav\"\n",
    "\n",
    "#ipd.Audio(audio_path + file_name) # load a local WAV file"
   ],
   "metadata": {
    "collapsed": false,
    "pycharm": {
     "name": "#%%\n"
    }
   }
  },
  {
   "cell_type": "code",
   "execution_count": 5,
   "outputs": [
    {
     "data": {
      "text/plain": "<Figure size 432x288 with 1 Axes>",
      "image/png": "[encoded data removed]"
     },
     "metadata": {
      "needs_background": "light"
     },
     "output_type": "display_data"
    }
   ],
   "source": [
    "import librosa\n",
    "\n",
    "y, sr = librosa.load(audio_path + file_name) #, duration=10)\n",
    "fig, ax = plt.subplots()\n",
    "librosa.display.waveplot(y, sr=sr)\n",
    "ax.label_outer()"
   ],
   "metadata": {
    "collapsed": false,
    "pycharm": {
     "name": "#%%\n"
    }
   }
  },
  {
   "cell_type": "code",
   "execution_count": 6,
   "outputs": [],
   "source": [
    "wav = get_audio(audio_path, file_name)\n",
    "(nchannels, sampwidth, framerate, nframes, comptype, compname), samples_wav = wav"
   ],
   "metadata": {
    "collapsed": false,
    "pycharm": {
     "name": "#%%\n"
    }
   }
  },
  {
   "cell_type": "code",
   "execution_count": 7,
   "outputs": [],
   "source": [
    "import speech_recognition as sr\n",
    "r = sr.Recognizer()\n",
    "r.energy_threshold = 280\n",
    "\n",
    "a_file = sr.AudioFile(audio_path + file_name)"
   ],
   "metadata": {
    "collapsed": false,
    "pycharm": {
     "name": "#%%\n"
    }
   }
  },
  {
   "cell_type": "code",
   "execution_count": 15,
   "outputs": [],
   "source": [
    "input_audio_file = sr.AudioFile(audio_path + file_name)\n",
    "\n",
    "audio_list = []\n",
    "length = 5\n",
    "overlap = 0.4\n",
    "with input_audio_file as source:\n",
    "    dur = source.DURATION\n",
    "    r.adjust_for_ambient_noise(source, duration=1)\n",
    "\n",
    "for sample in range(0, int(dur / length)):\n",
    "    if sample > 0:\n",
    "        ptime_offset = sample * length - overlap\n",
    "    else:\n",
    "        ptime_offset = 0\n",
    "\n",
    "    #print(\"sample: \" + str(ptime_offset) + \" - \" + str(ptime_offset + length))\n",
    "    with input_audio_file as source:\n",
    "        #r.adjust_for_ambient_noise(source, duration=0.5)\n",
    "        audio_list.append(r.record(source, duration=length , offset = ptime_offset))\n"
   ],
   "metadata": {
    "collapsed": false,
    "pycharm": {
     "name": "#%%\n"
    }
   }
  },
  {
   "cell_type": "code",
   "execution_count": null,
   "outputs": [
    {
     "name": "stdout",
     "output_type": "stream",
     "text": [
      "frame: 0 - 5\n",
      "GOOGLE:\n",
      "\t--- Skip ---\n",
      "\t0.42 seconds\n",
      "frame: 4.6 - 9.6\n",
      "GOOGLE:\n",
      "\t--- Skip ---\n",
      "\t0.72 seconds\n",
      "frame: 9.6 - 14.6\n",
      "GOOGLE:\n",
      "\t--- Skip ---\n",
      "\t1.46 seconds\n",
      "frame: 14.6 - 19.6\n",
      "GOOGLE:\n",
      "\tWolverine\n",
      "\t2.25 seconds\n",
      "frame: 19.6 - 24.6\n",
      "GOOGLE:\n",
      "\tDanny Huston Ryan Reynolds William\n",
      "\t2.19 seconds\n",
      "frame: 24.6 - 29.6\n",
      "GOOGLE:\n",
      "\tand yes I just watched this a week ago\n",
      "\t1.5 seconds\n",
      "frame: 29.6 - 34.6\n",
      "GOOGLE:\n",
      "\t--- Skip ---\n",
      "\t0.78 seconds\n",
      "frame: 34.6 - 39.6\n",
      "GOOGLE:\n",
      "\t--- Skip ---\n",
      "\t0.99 seconds\n",
      "frame: 39.6 - 44.6\n",
      "GOOGLE:\n",
      "\tbackstory of X-Men member\n",
      "\t1.77 seconds\n",
      "frame: 44.6 - 49.6\n",
      "GOOGLE:\n",
      "\tI'm not going to sugarcoat this movies\n",
      "\t1.72 seconds\n",
      "frame: 49.6 - 54.6\n",
      "GOOGLE:\n",
      "\t--- Skip ---\n",
      "\t2.15 seconds\n",
      "frame: 54.6 - 59.6\n",
      "GOOGLE:\n",
      "\tmy reason I'm a comic book\n",
      "\t1.23 seconds\n",
      "frame: 59.6 - 64.6\n",
      "GOOGLE:\n",
      "\tDC comic book character created responsibly\n",
      "\t1.17 seconds\n",
      "frame: 64.6 - 69.6\n",
      "GOOGLE:\n",
      "\t--- Skip ---\n",
      "\t0.89 seconds\n",
      "frame: 69.6 - 74.6\n",
      "GOOGLE:\n",
      "\twith that I must say that this had a surprisingly.\n",
      "\t1.43 seconds\n",
      "frame: 74.6 - 79.6\n",
      "GOOGLE:\n",
      "\tstrange since one of my biggest gripes with the X-Men series\n",
      "\t1.8 seconds\n",
      "frame: 79.6 - 84.6\n",
      "GOOGLE:\n",
      "\twas and always is the castic\n",
      "\t1.83 seconds\n",
      "frame: 84.6 - 89.6\n",
      "GOOGLE:\n",
      "\t--- Skip ---\n",
      "\t0.81 seconds\n",
      "frame: 89.6 - 94.6\n",
      "GOOGLE:\n"
     ]
    }
   ],
   "source": [
    "i = 0\n",
    "avg_time = 0\n",
    "for sample in audio_list:\n",
    "    if i > 0:\n",
    "        ptime_offset = i * length - overlap\n",
    "    else:\n",
    "        ptime_offset = 0\n",
    "\n",
    "    print(\"frame: \" + str(ptime_offset) + \" - \" + str(ptime_offset + length))\n",
    "    i += 1\n",
    "    print(\"GOOGLE:\")\n",
    "    try:\n",
    "        time_start = time.time()\n",
    "        print(\"\\t\" + str(r.recognize_google(sample)))\n",
    "    except:\n",
    "        print(\"\\t--- Skip ---\")\n",
    "\n",
    "    time_sr = time.time() - time_start\n",
    "    print(\"\\t\" + str(round(time_sr, 2)) + \" seconds\")\n",
    "    avg_time += time_sr\n",
    "\n",
    "print(\"________________ \\n\" +\n",
    "      \"Average Time: \" + str(round(avg_time/i, 2)))\n",
    "\n"
   ],
   "metadata": {
    "collapsed": false,
    "pycharm": {
     "name": "#%%\n",
     "is_executing": true
    }
   }
  },
  {
   "cell_type": "code",
   "execution_count": 10,
   "outputs": [],
   "source": [
    "with input_audio_file as source:\n",
    "        audio = r.record(source, offset=30)#, duration=60)\n",
    "        #audio = r.record(source, duration=60)\n",
    "        #audio = r.record(source, duration=60)\n",
    "       # audio = r.record(source, duration=60)\n",
    "        #audio2 = r.record(source, duration=60)\n",
    "\n",
    "result = r.recognize_google(audio)\n",
    "\n"
   ],
   "metadata": {
    "collapsed": false,
    "pycharm": {
     "name": "#%%\n"
    }
   }
  }
 ],
 "metadata": {
  "kernelspec": {
   "display_name": "Python 3",
   "language": "python",
   "name": "python3"
  },
  "language_info": {
   "codemirror_mode": {
    "name": "ipython",
    "version": 2
   },
   "file_extension": ".py",
   "mimetype": "text/x-python",
   "name": "python",
   "nbconvert_exporter": "python",
   "pygments_lexer": "ipython2",
   "version": "2.7.6"
  }
 },
 "nbformat": 4,
 "nbformat_minor": 0
}