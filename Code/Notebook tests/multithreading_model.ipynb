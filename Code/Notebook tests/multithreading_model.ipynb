{
 "cells": [
  {
   "cell_type": "code",
   "execution_count": 1,
   "outputs": [
    {
     "name": "stderr",
     "output_type": "stream",
     "text": [
      "C:\\Users\\walle\\anaconda3\\envs\\TFGPU\\lib\\site-packages\\pydub\\utils.py:170: RuntimeWarning: Couldn't find ffmpeg or avconv - defaulting to ffmpeg, but may not work\n",
      "  warn(\"Couldn't find ffmpeg or avconv - defaulting to ffmpeg, but may not work\", RuntimeWarning)\n"
     ]
    }
   ],
   "source": [
    "import pandas as pd\n",
    "import sys\n",
    "import math\n",
    "from keras.models import load_model\n",
    "import tensorflow as tf\n",
    "from Code.Misc.helper import *\n",
    "from Code.Misc.features import *\n",
    "import pyaudio\n",
    "import struct\n",
    "import numpy as np\n",
    "import matplotlib.pyplot as plt\n",
    "import time\n",
    "from tkinter import TclError\n",
    "from Code.Misc.split_segments import *\n",
    "import pyaudio\n",
    "import wave\n",
    "import errno\n",
    "import time\n",
    "import calendar\n",
    "import os\n",
    "from threading import Thread\n",
    "from collections import deque\n",
    "import copy\n",
    "from scipy.io.wavfile import read\n",
    "import concurrent.futures\n",
    "\n",
    "# use this backend to display in separate Tk window\n",
    "#%matplotlib tk\n",
    "%matplotlib inline\n",
    "\n",
    "physical_devices = tf.config.list_physical_devices('GPU')\n",
    "tf.config.experimental.set_memory_growth(physical_devices[0], enable=True)"
   ],
   "metadata": {
    "collapsed": false,
    "pycharm": {
     "name": "#%%\n"
    }
   }
  },
  {
   "cell_type": "code",
   "execution_count": 2,
   "outputs": [
    {
     "name": "stdout",
     "output_type": "stream",
     "text": [
      "True\n"
     ]
    }
   ],
   "source": [
    "rem_flag = False\n",
    "# Clean all old wave files\n",
    "r = os.listdir('../../Data/Thread_files/')\n",
    "for i in r:\n",
    "    try:\n",
    "        if i.endswith('wav'):\n",
    "            rem_flag = True\n",
    "            os.remove(i)\n",
    "    except OSError as e: # this would be \"except OSError, e:\" before Python 2.6\n",
    "        if e.errno != errno.ENOENT: # errno.ENOENT = no such file or directory\n",
    "            pass\n",
    "print(rem_flag)"
   ],
   "metadata": {
    "collapsed": false,
    "pycharm": {
     "name": "#%%\n"
    }
   }
  },
  {
   "cell_type": "code",
   "execution_count": 3,
   "outputs": [
    {
     "name": "stdout",
     "output_type": "stream",
     "text": [
      "True\n"
     ]
    }
   ],
   "source": [
    "# Recording flag & file count\n",
    "recording = True\n",
    "idx = 0\n",
    "\n",
    "# Initialize pyaudio\n",
    "p = pyaudio.PyAudio()\n",
    "\n",
    "# Setup format info\n",
    "FORMAT = pyaudio.paInt16\n",
    "CHANNELS = 1                 # single channel for microphone\n",
    "DEVICE = 1\n",
    "RATE = 44100\n",
    "file_len = 5\n",
    "CHUNK = int(RATE / 2)\n",
    "print(rem_flag)\n",
    "# Create fast I/O buffer\n",
    "d = deque(maxlen=int(RATE / CHUNK * file_len))\n",
    "# p_name = int(calendar.timegm(time.gmtime()))"
   ],
   "metadata": {
    "collapsed": false,
    "pycharm": {
     "name": "#%%\n"
    }
   }
  },
  {
   "cell_type": "code",
   "execution_count": 4,
   "outputs": [],
   "source": [
    "# set up model\n",
    "model = load_model(\"../Misc/Saved_data/Trained_models/2_layer_LSTM.pickle\")\n",
    "cols = ['ang', 'exc', 'neu', 'sad']\n",
    "df_pred_wav = pd.DataFrame([np.zeros(4)], columns=cols)\n",
    "data_prev = []\n",
    "graph_window = 30"
   ],
   "metadata": {
    "collapsed": false,
    "pycharm": {
     "name": "#%%\n"
    }
   }
  },
  {
   "cell_type": "code",
   "execution_count": 5,
   "outputs": [],
   "source": [
    "# Thread called file I/O function\n",
    "def write_to_file(arg):\n",
    "    global wf, idx\n",
    "\n",
    "    # Write 5s of audio to file\n",
    "    for elem in arg:\n",
    "        wf.writeframes(elem)\n",
    "\n",
    "    # If file is at the desired length close it, rename it to its utc start time (cant get ms?) and open the next temp\n",
    "    # file for writing to\n",
    "    if wf.tell() == RATE * file_len:\n",
    "        wf.close()\n",
    "        recording_name = str(calendar.timegm(time.gmtime()) - file_len) + '.wav'\n",
    "        os.rename('../../Data/Thread_files/temp.wav', '../../Data/Thread_files/'+ recording_name)\n",
    "        wf = wave.open('../../Data/Thread_files/temp.wav', 'wb')\n",
    "        wf.setnchannels(1)\n",
    "        wf.setframerate(RATE)\n",
    "        wf.setsampwidth(2)\n",
    "        idx += 1\n",
    "        print ('File created: ' + recording_name)\n",
    "        return recording_name, idx"
   ],
   "metadata": {
    "collapsed": false,
    "pycharm": {
     "name": "#%%\n"
    }
   }
  },
  {
   "cell_type": "code",
   "execution_count": 6,
   "outputs": [],
   "source": [
    "executor = concurrent.futures.ThreadPoolExecutor(max_workers=5)\n",
    "thread_list = []\n",
    "# Pyaudio callback which appends HW audio buffer data to fast I/O 5s long buffer\n",
    "def callback(in_data, frame_count, time_info, status):\n",
    "    if status != 0:\n",
    "        print (\"Non zero status!!!!!!!!!!\")\n",
    "        exit()\n",
    "    global d\n",
    "    d.append(in_data)\n",
    "\n",
    "    # If 5s worth of audio is collected, copy to secondary buffer and pass to thread function for file I/O, then\n",
    "    # clear 5s buffer\n",
    "    if len(d) == RATE / CHUNK * file_len:\n",
    "        frames = copy.copy(d)\n",
    "        thread_list.append(executor.submit(write_to_file, frames))\n",
    "        # thread = Thread(target=write_to_file, args=[frames])\n",
    "        # thread.start()\n",
    "        d.clear()\n",
    "        print ('Copied 5s buffer: ')\n",
    "\n",
    "    return in_data, pyaudio.paContinue"
   ],
   "metadata": {
    "collapsed": false,
    "pycharm": {
     "name": "#%%\n"
    }
   }
  },
  {
   "cell_type": "code",
   "execution_count": 7,
   "outputs": [],
   "source": [
    "audio_path = \"C:/Uni Shit/EECS 4088/Capstone---RTSD-System/Data/CMU_MOSI/Raw/Audio/WAV_16000/Full/\"\n",
    "file_name = \"0h-zjBukYpk.wav\"\n",
    "\n",
    "if rem_flag:\n",
    "    # Open initial temp file and setup\n",
    "    wf = wave.open('../../Data/Thread_files/temp.wav', 'wb')\n",
    "    wf.setnchannels(1)\n",
    "    wf.setframerate(RATE)\n",
    "    wf.setsampwidth(2)\n",
    "\n",
    "else:\n",
    "    wf = wave.open(audio_path + file_name, 'r')\n",
    "    split_wav = SplitWavAudio(audio_path,file_name)\n",
    "    split_wav.multiple_split(sec_per_split=5)\n",
    "\n",
    "#os.remove('../Misc/Saved_data/temp.wav')"
   ],
   "metadata": {
    "collapsed": false,
    "pycharm": {
     "name": "#%%\n"
    }
   }
  },
  {
   "cell_type": "code",
   "execution_count": 8,
   "outputs": [
    {
     "name": "stdout",
     "output_type": "stream",
     "text": [
      "Copied 5s buffer: \n",
      "File created: 1617239349.wav\n",
      "1617239349.wav\n",
      "Copied 5s buffer: \n",
      "File created: 1617239354.wav\n",
      "1617239354.wav\n",
      "Copied 5s buffer: \n",
      "File created: 1617239359.wav\n",
      "1617239359.wav\n",
      "Copied 5s buffer: \n",
      "File created: 1617239364.wav\n",
      "1617239364.wav\n"
     ]
    }
   ],
   "source": [
    "# Setup audio input stream\n",
    "stream = p.open(format=FORMAT,\n",
    "                channels=CHANNELS,\n",
    "                rate=RATE,\n",
    "                input=True,\n",
    "                frames_per_buffer=CHUNK,\n",
    "                input_device_index=DEVICE,\n",
    "                stream_callback=callback\n",
    "                )\n",
    "# Start audio input stream\n",
    "stream.start_stream()\n",
    "# time.sleep()\n",
    "# Capture until we have X number of files for testing\n",
    "all_result = []\n",
    "data_int = []\n",
    "prev_result = None\n",
    "file_index=0\n",
    "i=0\n",
    "thread_path = '../../Data/Thread_files/'\n",
    "try:\n",
    "    while recording:\n",
    "        for thread in concurrent.futures.as_completed(thread_list):\n",
    "            if file_index < idx:\n",
    "                file_index += 1\n",
    "                all_result.extend(thread.result())\n",
    "                print(all_result[i])\n",
    "                recorded_file = get_audio(thread_path, all_result[i])\n",
    "                (nchannels, sampwidth, framerate, nframes, comptype, compname), sample_wav = recorded_file\n",
    "                data_int = sample_wav\n",
    "                data_int = np.array(data_int).astype('int16')\n",
    "                # Generate features from data\n",
    "                st_features = calculate_features(data_int, RATE, None)\n",
    "                st_features, _ = pad_sequence_into_array(st_features, maxlen=100)\n",
    "                # reshape input from (34, 100) to (1, 100, 34)\n",
    "                st_features = np.array([st_features.T])\n",
    "\n",
    "                # # predict on model\n",
    "                with tf.device('/gpu:0'):\n",
    "                    wav_test_results = model.predict(st_features)\n",
    "                i += 2\n",
    "                # continue\n",
    "\n",
    "            # data_int += list(read(recorded_file))\n",
    "            # data_int = np.array(data_int).astype('int16')\n",
    "            # # Generate features from data\n",
    "            # st_features = calculate_features(data_int, RATE, None)\n",
    "            # st_features, _ = pad_sequence_into_array(st_features, maxlen=100)\n",
    "            #\n",
    "            # # reshape input from (34, 100) to (1, 100, 34)\n",
    "            # st_features = np.array([st_features.T])\n",
    "            #\n",
    "            # # predict on model\n",
    "            # with tf.device('/gpu:0'):\n",
    "            #     wav_test_results = model.predict(st_features)\n",
    "            # if recorded_file:\n",
    "            #     data_int = []\n",
    "            #     prev_result = all_result[file_index]\n",
    "            #     print(prev_result)\n",
    "            #     print(\"--\" * 40)\n",
    "            #     print(thread.result())\n",
    "            #     print(\"**\" * 40)\n",
    "            #     continue\n",
    "        # for future in thread_list:\n",
    "        #     recorded_file = wave.open('../../Data/Thread_files/'+ future.result() + '.wav', 'r')\n",
    "        #     print(future.result())\n",
    "        # data_new = wave.readframes(CHUNK)\n",
    "        # data = read(recorded_file)\n",
    "        # data_new = struct.unpack(str(2 * CHUNK) + 'B', data_new)\n",
    "\n",
    "        # data_int = []\n",
    "        # for i in range(d):\n",
    "        #      data_int = np.append(data_int, data_prev)\n",
    "\n",
    "        # Generate features from data\n",
    "        # st_features = calculate_features(data_int, RATE, None)\n",
    "        # st_features, _ = pad_sequence_into_array(st_features, maxlen=100)\n",
    "\n",
    "        # reshape input from (34, 100) to (1, 100, 34)\n",
    "        # st_features = np.array([st_features.T])\n",
    "\n",
    "        # predict on model\n",
    "        # with tf.device('/gpu:0'):\n",
    "        #     wav_test_results = model.predict(st_features)\n",
    "\n",
    "        # print(wav_test_results.shape)\n",
    "        if idx > 3:\n",
    "            recording = False\n",
    "except:\n",
    "    if KeyboardInterrupt:\n",
    "        recording = False\n",
    "\n",
    "stream.stop_stream()\n",
    "stream.close()\n",
    "wf.close()\n",
    "\n",
    "p.terminate()"
   ],
   "metadata": {
    "collapsed": false,
    "pycharm": {
     "name": "#%%\n"
    }
   }
  }
 ],
 "metadata": {
  "kernelspec": {
   "display_name": "Python 3",
   "language": "python",
   "name": "python3"
  },
  "language_info": {
   "codemirror_mode": {
    "name": "ipython",
    "version": 2
   },
   "file_extension": ".py",
   "mimetype": "text/x-python",
   "name": "python",
   "nbconvert_exporter": "python",
   "pygments_lexer": "ipython2",
   "version": "2.7.6"
  }
 },
 "nbformat": 4,
 "nbformat_minor": 0
}